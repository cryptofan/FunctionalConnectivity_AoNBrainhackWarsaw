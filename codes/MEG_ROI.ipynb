{
 "cells": [
  {
   "cell_type": "code",
   "execution_count": 3,
   "metadata": {},
   "outputs": [
    {
     "name": "stdout",
     "output_type": "stream",
     "text": [
      "Anterior: ['A121', 'A122', 'A123', 'A124', 'A149', 'A150', 'A151', 'A89', 'A90', 'A91', 'A92', 'A117', 'A118', 'A119', 'A61', 'A62', 'A63', 'A86', 'A87', 'A149', 'A150', 'A151', 'A152', 'A176', 'A177', 'A195']\n",
      "Central: ['A1', 'A2', 'A3', 'A4', 'A5', 'A6', 'A7', 'A8', 'A9', 'A10', 'A11', 'A12', 'A13', 'A14', 'A15', 'A16', 'A17', 'A18', 'A19', 'A20', 'A21', 'A22', 'A23', 'A24', 'A25', 'A26', 'A27', 'A28', 'A29', 'A30', 'A31', 'A32', 'A33', 'A34', 'A35', 'A36', 'A37', 'A38', 'A39', 'A40', 'A41', 'A42', 'A43', 'A44', 'A45', 'A46', 'A47', 'A48', 'A49', 'A50', 'A51', 'A52', 'A53', 'A54', 'A55', 'A56', 'A57', 'A58', 'A59']\n",
      "Posterior: ['A72', 'A73', 'A74', 'A75', 'A76', 'A77', 'A102', 'A103', 'A104', 'A105', 'A106', 'A107', 'A134', 'A135', 'A136', 'A137', 'A138', 'A139', 'A161', 'A162', 'A163', 'A164', 'A165', 'A166', 'A167', 'A183', 'A184', 'A185', 'A186', 'A187', 'A188', 'A200', 'A201', 'A202', 'A203', 'A204', 'A205', 'A206', 'A217', 'A218', 'A219', 'A220', 'A221', 'A222', 'A235', 'A236', 'A237', 'A238', 'A239', 'A240', 'A241']\n",
      "Right: ['A79', 'A80', 'A81', 'A82', 'A83', 'A84', 'A109', 'A110', 'A111', 'A112', 'A113', 'A114', 'A115', 'A141', 'A142', 'A143', 'A144', 'A145', 'A146', 'A147', 'A169', 'A170', 'A171', 'A172', 'A173', 'A174', 'A190', 'A191', 'A192', 'A193', 'A208', 'A209', 'A210', 'A224', 'A225', 'A226', 'A227', 'A243', 'A244', 'A245', 'A246', 'A247']\n",
      "Left: ['A65', 'A66', 'A67', 'A68', 'A69', 'A70', 'A94', 'A95', 'A96', 'A97', 'A98', 'A99', 'A100', 'A126', 'A127', 'A128', 'A129', 'A130', 'A131', 'A132', 'A154', 'A155', 'A156', 'A157', 'A158', 'A159', 'A178', 'A179', 'A180', 'A181', 'A196', 'A197', 'A198', 'A212', 'A213', 'A214', 'A215', 'A229', 'A230', 'A231', 'A232', 'A233']\n"
     ]
    }
   ],
   "source": [
    "import numpy as np\n",
    "\n",
    "Anterior_num = np.r_[121:125, 149:152, 89:93, 117:120, 61:64, 86:88, 149:153, 176:177, 177, 195]\n",
    "Anterior_str = Anterior_num.astype(str) \n",
    "Anterior = ['A' + s for s in Anterior_str]\n",
    "print('Anterior:', Anterior)\n",
    "\n",
    "Central_num = np.r_[1:60]\n",
    "Central_str = Central_num.astype(str) \n",
    "Central = ['A' + s for s in Central_str]\n",
    "print('Central:', Central)\n",
    "\n",
    "Posterior_num = np.r_[72:78, 102:108, 134:140, 161:168, 183:189, 200:207, 217:223, 235:242]\n",
    "Posterior_str = Posterior_num.astype(str) \n",
    "Posterior = ['A' + s for s in Posterior_str]\n",
    "print('Posterior:', Posterior)\n",
    "\n",
    "Right_num = np.r_[79:85, 109:116, 141:148, 169:175, 190:194, 208:211, 224:228, 243:248]\n",
    "Right_str = Right_num.astype(str) \n",
    "Right = ['A' + s for s in Right_str]\n",
    "print('Right:', Right)\n",
    "\n",
    "\n",
    "Left_num = np.r_[65:71, 94:101, 126:133, 154:160, 178:182, 196:199, 212:216, 229:234]\n",
    "Left_str = Left_num.astype(str) \n",
    "Left = ['A' + s for s in Left_str]\n",
    "print('Left:', Left)\n"
   ]
  }
 ],
 "metadata": {
  "kernelspec": {
   "display_name": "Python3.5",
   "language": "python",
   "name": "python3.5"
  },
  "language_info": {
   "codemirror_mode": {
    "name": "ipython",
    "version": 3
   },
   "file_extension": ".py",
   "mimetype": "text/x-python",
   "name": "python",
   "nbconvert_exporter": "python",
   "pygments_lexer": "ipython3",
   "version": "3.5.4"
  }
 },
 "nbformat": 4,
 "nbformat_minor": 2
}
